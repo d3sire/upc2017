{
 "cells": [
  {
   "cell_type": "code",
   "execution_count": 41,
   "metadata": {
    "ExecuteTime": {
     "end_time": "2017-10-14T02:28:16.350437Z",
     "start_time": "2017-10-14T02:28:16.346455Z"
    },
    "collapsed": false
   },
   "outputs": [],
   "source": [
    "from faker import Faker\n",
    "from datetime import date\n",
    "import pandas as pd\n",
    "import numpy as np"
   ]
  },
  {
   "cell_type": "code",
   "execution_count": 3,
   "metadata": {
    "ExecuteTime": {
     "end_time": "2017-10-14T02:16:57.874557Z",
     "start_time": "2017-10-14T02:16:57.844067Z"
    },
    "collapsed": true
   },
   "outputs": [],
   "source": [
    "fake = Faker()"
   ]
  },
  {
   "cell_type": "markdown",
   "metadata": {},
   "source": [
    "# First company"
   ]
  },
  {
   "cell_type": "code",
   "execution_count": 28,
   "metadata": {
    "ExecuteTime": {
     "end_time": "2017-10-14T02:24:50.633882Z",
     "start_time": "2017-10-14T02:24:50.630694Z"
    },
    "collapsed": true
   },
   "outputs": [],
   "source": [
    "n_users = 1000"
   ]
  },
  {
   "cell_type": "code",
   "execution_count": 31,
   "metadata": {
    "ExecuteTime": {
     "end_time": "2017-10-14T02:26:05.779946Z",
     "start_time": "2017-10-14T02:26:05.225033Z"
    },
    "collapsed": false
   },
   "outputs": [],
   "source": [
    "user_names = [fake.name() for i in range(n_users)]\n",
    "user_addresses = [fake.address() for i in range(n_users)]\n",
    "user_reg_dates = [fake.date_between_dates(date(2015,1,1), date(2017,10,14)) for i in range(n_users)]"
   ]
  },
  {
   "cell_type": "code",
   "execution_count": 39,
   "metadata": {
    "ExecuteTime": {
     "end_time": "2017-10-14T02:27:31.187616Z",
     "start_time": "2017-10-14T02:27:31.179203Z"
    },
    "collapsed": false
   },
   "outputs": [],
   "source": [
    "users = pd.DataFrame({\n",
    "        'name': user_names,\n",
    "        'address': user_addresses,\n",
    "        'registration_date': user_reg_dates\n",
    "    })\\\n",
    "    .sort_values('registration_date')\\\n",
    "    .reset_index(drop=True)\\\n",
    "    .reset_index()\\\n",
    "    .rename(columns = {'index': 'id'})"
   ]
  },
  {
   "cell_type": "code",
   "execution_count": 46,
   "metadata": {
    "ExecuteTime": {
     "end_time": "2017-10-14T02:34:28.703046Z",
     "start_time": "2017-10-14T02:34:28.695994Z"
    },
    "collapsed": false
   },
   "outputs": [
    {
     "data": {
      "text/plain": [
       "datetime.date(2015, 1, 1)"
      ]
     },
     "execution_count": 46,
     "metadata": {},
     "output_type": "execute_result"
    }
   ],
   "source": [
    "users.loc[0, 'registration_date']"
   ]
  },
  {
   "cell_type": "code",
   "execution_count": 44,
   "metadata": {
    "ExecuteTime": {
     "end_time": "2017-10-14T02:30:40.363850Z",
     "start_time": "2017-10-14T02:30:40.360131Z"
    },
    "collapsed": false
   },
   "outputs": [],
   "source": [
    "order_user_ids = np.random.choice(range(n_users), size = n_users * 20)"
   ]
  },
  {
   "cell_type": "code",
   "execution_count": 48,
   "metadata": {
    "ExecuteTime": {
     "end_time": "2017-10-14T02:35:45.518489Z",
     "start_time": "2017-10-14T02:35:43.457747Z"
    },
    "collapsed": false
   },
   "outputs": [],
   "source": [
    "order_dates = [fake.date_between_dates(users.loc[oui, 'registration_date'], date(2017,10,14)) for oui in order_user_ids]"
   ]
  },
  {
   "cell_type": "code",
   "execution_count": 50,
   "metadata": {
    "ExecuteTime": {
     "end_time": "2017-10-14T02:38:33.863939Z",
     "start_time": "2017-10-14T02:38:33.839322Z"
    },
    "collapsed": false
   },
   "outputs": [],
   "source": [
    "order_costs = [(np.random.randn() + 1) * 1000 for i in range(len(order_user_ids))]"
   ]
  },
  {
   "cell_type": "code",
   "execution_count": 52,
   "metadata": {
    "ExecuteTime": {
     "end_time": "2017-10-14T02:39:52.847279Z",
     "start_time": "2017-10-14T02:39:52.649354Z"
    },
    "collapsed": false
   },
   "outputs": [],
   "source": [
    "order_lats = [fake.latitude() for i in range(len(order_user_ids))]\n",
    "order_lons = [fake.longitude() for i in range(len(order_user_ids))]"
   ]
  },
  {
   "cell_type": "code",
   "execution_count": 56,
   "metadata": {
    "ExecuteTime": {
     "end_time": "2017-10-14T02:49:09.418909Z",
     "start_time": "2017-10-14T02:49:09.376642Z"
    },
    "collapsed": false
   },
   "outputs": [],
   "source": [
    "orders = pd.DataFrame({\n",
    "        'date': order_dates,\n",
    "        'user_id': order_user_ids,\n",
    "        'lat': order_lats,\n",
    "        'lon': order_lons,\n",
    "        'cost': order_costs\n",
    "    })\\\n",
    "    .sort_values('date')\\\n",
    "    .reset_index(drop=True)\\\n",
    "    .reset_index()\\\n",
    "    .rename(columns = {'index': 'id'})"
   ]
  },
  {
   "cell_type": "code",
   "execution_count": 61,
   "metadata": {
    "ExecuteTime": {
     "end_time": "2017-10-14T02:52:36.991487Z",
     "start_time": "2017-10-14T02:52:36.765240Z"
    },
    "collapsed": false
   },
   "outputs": [],
   "source": [
    "users.to_csv('data/0_users.csv', index=False)\n",
    "orders.to_csv('data/0_orders.csv', index=False)"
   ]
  },
  {
   "cell_type": "code",
   "execution_count": null,
   "metadata": {
    "collapsed": true
   },
   "outputs": [],
   "source": []
  }
 ],
 "metadata": {
  "anaconda-cloud": {},
  "kernelspec": {
   "display_name": "Python [conda env:py3]",
   "language": "python",
   "name": "conda-env-py3-py"
  },
  "language_info": {
   "codemirror_mode": {
    "name": "ipython",
    "version": 3
   },
   "file_extension": ".py",
   "mimetype": "text/x-python",
   "name": "python",
   "nbconvert_exporter": "python",
   "pygments_lexer": "ipython3",
   "version": "3.6.0"
  },
  "toc": {
   "colors": {
    "hover_highlight": "#DAA520",
    "navigate_num": "#000000",
    "navigate_text": "#333333",
    "running_highlight": "#FF0000",
    "selected_highlight": "#FFD700",
    "sidebar_border": "#EEEEEE",
    "wrapper_background": "#FFFFFF"
   },
   "moveMenuLeft": true,
   "nav_menu": {
    "height": "30px",
    "width": "252px"
   },
   "navigate_menu": true,
   "number_sections": true,
   "sideBar": false,
   "threshold": 4,
   "toc_cell": false,
   "toc_section_display": "block",
   "toc_window_display": false,
   "widenNotebook": false
  }
 },
 "nbformat": 4,
 "nbformat_minor": 1
}
