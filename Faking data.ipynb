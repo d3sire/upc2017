{
 "cells": [
  {
   "cell_type": "code",
   "execution_count": 5,
   "metadata": {
    "ExecuteTime": {
     "end_time": "2017-10-15T07:58:16.190406Z",
     "start_time": "2017-10-15T07:58:16.124796Z"
    },
    "collapsed": false
   },
   "outputs": [],
   "source": [
    "from faker import Faker\n",
    "from datetime import date\n",
    "import pandas as pd\n",
    "import numpy as np"
   ]
  },
  {
   "cell_type": "code",
   "execution_count": null,
   "metadata": {
    "ExecuteTime": {
     "end_time": "2017-10-14T02:16:57.874557Z",
     "start_time": "2017-10-14T02:16:57.844067Z"
    },
    "collapsed": true
   },
   "outputs": [],
   "source": [
    "fake = Faker()"
   ]
  },
  {
   "cell_type": "markdown",
   "metadata": {},
   "source": [
    "# First company"
   ]
  },
  {
   "cell_type": "code",
   "execution_count": null,
   "metadata": {
    "ExecuteTime": {
     "end_time": "2017-10-14T02:24:50.633882Z",
     "start_time": "2017-10-14T02:24:50.630694Z"
    },
    "collapsed": true
   },
   "outputs": [],
   "source": [
    "n_users = 1000"
   ]
  },
  {
   "cell_type": "code",
   "execution_count": null,
   "metadata": {
    "ExecuteTime": {
     "end_time": "2017-10-14T02:26:05.779946Z",
     "start_time": "2017-10-14T02:26:05.225033Z"
    },
    "collapsed": false
   },
   "outputs": [],
   "source": [
    "user_names = [fake.name() for i in range(n_users)]\n",
    "user_addresses = [fake.address() for i in range(n_users)]\n",
    "user_reg_dates = [fake.date_between_dates(date(2015,1,1), date(2017,10,14)) for i in range(n_users)]"
   ]
  },
  {
   "cell_type": "code",
   "execution_count": null,
   "metadata": {
    "ExecuteTime": {
     "end_time": "2017-10-14T02:27:31.187616Z",
     "start_time": "2017-10-14T02:27:31.179203Z"
    },
    "collapsed": false
   },
   "outputs": [],
   "source": [
    "users = pd.DataFrame({\n",
    "        'name': user_names,\n",
    "        'address': user_addresses,\n",
    "        'registration_date': user_reg_dates\n",
    "    })\\\n",
    "    .sort_values('registration_date')\\\n",
    "    .reset_index(drop=True)\\\n",
    "    .reset_index()\\\n",
    "    .rename(columns = {'index': 'id'})"
   ]
  },
  {
   "cell_type": "code",
   "execution_count": null,
   "metadata": {
    "ExecuteTime": {
     "end_time": "2017-10-14T02:34:28.703046Z",
     "start_time": "2017-10-14T02:34:28.695994Z"
    },
    "collapsed": false
   },
   "outputs": [],
   "source": [
    "users.loc[0, 'registration_date']"
   ]
  },
  {
   "cell_type": "code",
   "execution_count": null,
   "metadata": {
    "ExecuteTime": {
     "end_time": "2017-10-14T02:30:40.363850Z",
     "start_time": "2017-10-14T02:30:40.360131Z"
    },
    "collapsed": false
   },
   "outputs": [],
   "source": [
    "order_user_ids = np.random.choice(range(n_users), size = n_users * 20)"
   ]
  },
  {
   "cell_type": "code",
   "execution_count": null,
   "metadata": {
    "ExecuteTime": {
     "end_time": "2017-10-14T02:35:45.518489Z",
     "start_time": "2017-10-14T02:35:43.457747Z"
    },
    "collapsed": false
   },
   "outputs": [],
   "source": [
    "order_dates = [fake.date_between_dates(users.loc[oui, 'registration_date'], date(2017,10,14)) for oui in order_user_ids]"
   ]
  },
  {
   "cell_type": "code",
   "execution_count": null,
   "metadata": {
    "ExecuteTime": {
     "end_time": "2017-10-14T02:38:33.863939Z",
     "start_time": "2017-10-14T02:38:33.839322Z"
    },
    "collapsed": false
   },
   "outputs": [],
   "source": [
    "order_costs = [(np.random.randn() + 1) * 1000 for i in range(len(order_user_ids))]"
   ]
  },
  {
   "cell_type": "code",
   "execution_count": null,
   "metadata": {
    "ExecuteTime": {
     "end_time": "2017-10-14T02:39:52.847279Z",
     "start_time": "2017-10-14T02:39:52.649354Z"
    },
    "collapsed": false
   },
   "outputs": [],
   "source": [
    "order_lats = [fake.latitude() for i in range(len(order_user_ids))]\n",
    "order_lons = [fake.longitude() for i in range(len(order_user_ids))]"
   ]
  },
  {
   "cell_type": "code",
   "execution_count": null,
   "metadata": {
    "ExecuteTime": {
     "end_time": "2017-10-14T02:49:09.418909Z",
     "start_time": "2017-10-14T02:49:09.376642Z"
    },
    "collapsed": false
   },
   "outputs": [],
   "source": [
    "orders = pd.DataFrame({\n",
    "        'date': order_dates,\n",
    "        'user_id': order_user_ids,\n",
    "        'lat': order_lats,\n",
    "        'lon': order_lons,\n",
    "        'cost': order_costs\n",
    "    })\\\n",
    "    .sort_values('date')\\\n",
    "    .reset_index(drop=True)\\\n",
    "    .reset_index()\\\n",
    "    .rename(columns = {'index': 'id'})"
   ]
  },
  {
   "cell_type": "code",
   "execution_count": null,
   "metadata": {
    "ExecuteTime": {
     "end_time": "2017-10-14T02:52:36.991487Z",
     "start_time": "2017-10-14T02:52:36.765240Z"
    },
    "collapsed": false
   },
   "outputs": [],
   "source": [
    "users.to_csv('data/0_users.csv', index=False)\n",
    "orders.to_csv('data/0_orders.csv', index=False)"
   ]
  },
  {
   "cell_type": "markdown",
   "metadata": {},
   "source": [
    "# Parse dates"
   ]
  },
  {
   "cell_type": "code",
   "execution_count": null,
   "metadata": {
    "ExecuteTime": {
     "end_time": "2017-10-14T03:08:59.629008Z",
     "start_time": "2017-10-14T03:08:59.625784Z"
    },
    "collapsed": true
   },
   "outputs": [],
   "source": [
    "from dateparser import parse"
   ]
  },
  {
   "cell_type": "code",
   "execution_count": null,
   "metadata": {
    "ExecuteTime": {
     "end_time": "2017-10-14T03:15:32.626182Z",
     "start_time": "2017-10-14T03:15:32.622640Z"
    },
    "collapsed": true
   },
   "outputs": [],
   "source": [
    "query = \"\"\"\n",
    "How many users registered two days ago\n",
    "\"\"\""
   ]
  },
  {
   "cell_type": "code",
   "execution_count": null,
   "metadata": {
    "ExecuteTime": {
     "end_time": "2017-10-14T04:13:29.935818Z",
     "start_time": "2017-10-14T04:13:29.909182Z"
    },
    "collapsed": false
   },
   "outputs": [],
   "source": [
    "def parse_dates(query):\n",
    "\n",
    "    words = query.split()\n",
    "\n",
    "    words_parsed = [0] * len(words)\n",
    "    for i in range(len(words)):\n",
    "        for j in range(i, len(words)):\n",
    "            candidate = ' '.join(words[i:j+1])\n",
    "            if parse(candidate):\n",
    "                words_parsed[i:j+1] = [1]*(j+1-i)\n",
    "\n",
    "    for i in range(len(words)):\n",
    "        if words[i] in ['and', 'to']:\n",
    "            words_parsed[i] = 0\n",
    "                \n",
    "    parsed_dates = []\n",
    "    current_date = ''\n",
    "    for i in range(len(words)+1):\n",
    "        if i == len(words) or words_parsed[i] == 0:\n",
    "            if current_date:\n",
    "                parsed_dates.append(parse(current_date).date())\n",
    "            current_date = ''\n",
    "        else:\n",
    "            current_date = current_date + (' ' if current_date else '')  + words[i]\n",
    "\n",
    "    parsed_dates = sorted(parsed_dates)\n",
    "    dates_to_return = []\n",
    "    if len(parsed_dates) > 0:\n",
    "        dates_to_return.append(parsed_dates[0])\n",
    "    if len(parsed_dates) > 1:\n",
    "        dates_to_return.append(parsed_dates[len(parsed_dates) - 1])\n",
    "    \n",
    "    return parsed_dates"
   ]
  },
  {
   "cell_type": "code",
   "execution_count": null,
   "metadata": {
    "ExecuteTime": {
     "end_time": "2017-10-14T04:11:36.413752Z",
     "start_time": "2017-10-14T04:11:30.380511Z"
    },
    "collapsed": false,
    "scrolled": true
   },
   "outputs": [],
   "source": [
    "q = 'How many users registered last month?'\n",
    "parse_dates(q)"
   ]
  },
  {
   "cell_type": "code",
   "execution_count": null,
   "metadata": {
    "ExecuteTime": {
     "end_time": "2017-10-14T04:11:48.145605Z",
     "start_time": "2017-10-14T04:11:36.415725Z"
    },
    "collapsed": false
   },
   "outputs": [],
   "source": [
    "q = 'How many users registered in the last 7 days?'\n",
    "parse_dates(q)"
   ]
  },
  {
   "cell_type": "code",
   "execution_count": null,
   "metadata": {
    "ExecuteTime": {
     "end_time": "2017-10-14T04:14:51.657793Z",
     "start_time": "2017-10-14T04:14:43.802562Z"
    },
    "collapsed": false
   },
   "outputs": [],
   "source": [
    "q = 'How many users registered from 01/09/2017 to 01/10/2017'\n",
    "parse_dates(q)"
   ]
  },
  {
   "cell_type": "markdown",
   "metadata": {},
   "source": [
    "# Comments"
   ]
  },
  {
   "cell_type": "code",
   "execution_count": null,
   "metadata": {
    "ExecuteTime": {
     "end_time": "2017-10-15T05:05:42.994892Z",
     "start_time": "2017-10-15T05:05:42.916347Z"
    },
    "collapsed": false
   },
   "outputs": [],
   "source": [
    "c_data = pd.read_csv('data_for_comments.csv', encoding='cp1251')"
   ]
  },
  {
   "cell_type": "code",
   "execution_count": null,
   "metadata": {
    "ExecuteTime": {
     "end_time": "2017-10-15T05:06:04.327164Z",
     "start_time": "2017-10-15T05:06:04.321728Z"
    },
    "collapsed": false
   },
   "outputs": [],
   "source": [
    "comments = c_data['content']"
   ]
  },
  {
   "cell_type": "code",
   "execution_count": null,
   "metadata": {
    "ExecuteTime": {
     "end_time": "2017-10-15T05:06:09.427682Z",
     "start_time": "2017-10-15T05:06:09.424464Z"
    },
    "collapsed": false
   },
   "outputs": [],
   "source": [
    "l = len(comments)"
   ]
  },
  {
   "cell_type": "code",
   "execution_count": null,
   "metadata": {
    "ExecuteTime": {
     "end_time": "2017-10-15T05:06:39.276817Z",
     "start_time": "2017-10-15T05:06:39.269497Z"
    },
    "collapsed": true
   },
   "outputs": [],
   "source": [
    "comments.index = np.random.randint(0, 20000, size = l)"
   ]
  },
  {
   "cell_type": "code",
   "execution_count": null,
   "metadata": {
    "ExecuteTime": {
     "end_time": "2017-10-15T05:07:43.415956Z",
     "start_time": "2017-10-15T05:07:43.408471Z"
    },
    "collapsed": false
   },
   "outputs": [],
   "source": [
    "comments = comments.to_frame().reset_index().rename(columns = {'index': 'id', 'content': 'comment'})"
   ]
  },
  {
   "cell_type": "code",
   "execution_count": null,
   "metadata": {
    "ExecuteTime": {
     "end_time": "2017-10-15T05:08:31.091491Z",
     "start_time": "2017-10-15T05:08:31.075458Z"
    },
    "collapsed": false
   },
   "outputs": [],
   "source": [
    "orders = orders.merge(comments, how = 'left', on  = 'id')"
   ]
  },
  {
   "cell_type": "code",
   "execution_count": null,
   "metadata": {
    "ExecuteTime": {
     "end_time": "2017-10-15T05:08:46.179306Z",
     "start_time": "2017-10-15T05:08:45.967859Z"
    },
    "collapsed": true
   },
   "outputs": [],
   "source": [
    "orders.to_csv('data/0_orders.csv')"
   ]
  },
  {
   "cell_type": "code",
   "execution_count": null,
   "metadata": {
    "ExecuteTime": {
     "end_time": "2017-10-15T05:16:11.992247Z",
     "start_time": "2017-10-15T05:16:11.985401Z"
    },
    "collapsed": false
   },
   "outputs": [],
   "source": [
    "import requests\n",
    "def get_sentiment(text, lang = 'en'):\n",
    "    \"\"\"\n",
    "    Grabs sentiment (1/0 - good/bad) from go microservice\n",
    "    Langs: en, es\n",
    "    \"\"\"\n",
    "    url = 'https://plentsov.com/sentiment/analyze?query={}&lang={}'.format(text, lang)\n",
    "    try:\n",
    "        sentiment = int(requests.get(url).json()['result'])\n",
    "        sentiment = 'good' if sentiment else 'bad'\n",
    "    except:\n",
    "        sentiment = 'neutral'\n",
    "    return sentiment"
   ]
  },
  {
   "cell_type": "code",
   "execution_count": null,
   "metadata": {
    "ExecuteTime": {
     "end_time": "2017-10-15T05:11:46.937385Z",
     "start_time": "2017-10-15T05:11:46.934599Z"
    },
    "collapsed": true
   },
   "outputs": [],
   "source": [
    "from tqdm import tqdm_notebook"
   ]
  },
  {
   "cell_type": "code",
   "execution_count": null,
   "metadata": {
    "ExecuteTime": {
     "end_time": "2017-10-15T05:12:15.065488Z",
     "start_time": "2017-10-15T05:12:15.027022Z"
    },
    "collapsed": false,
    "scrolled": true
   },
   "outputs": [],
   "source": [
    "tqdm_notebook().pandas()"
   ]
  },
  {
   "cell_type": "code",
   "execution_count": null,
   "metadata": {
    "ExecuteTime": {
     "end_time": "2017-10-15T05:13:09.097171Z",
     "start_time": "2017-10-15T05:13:09.090330Z"
    },
    "collapsed": false
   },
   "outputs": [],
   "source": [
    "pd.isnull(orders.comment[0])"
   ]
  },
  {
   "cell_type": "code",
   "execution_count": null,
   "metadata": {
    "ExecuteTime": {
     "end_time": "2017-10-15T05:20:24.787746Z",
     "start_time": "2017-10-15T05:16:17.832395Z"
    },
    "collapsed": false
   },
   "outputs": [],
   "source": [
    "orders['sentiment'] = orders.comment.progress_apply(lambda c: c if pd.isnull(c) else get_sentiment(c)) "
   ]
  },
  {
   "cell_type": "code",
   "execution_count": null,
   "metadata": {
    "ExecuteTime": {
     "end_time": "2017-10-15T05:21:42.445459Z",
     "start_time": "2017-10-15T05:21:42.241838Z"
    },
    "collapsed": false
   },
   "outputs": [],
   "source": [
    "orders.to_csv('data/0_orders.csv')"
   ]
  },
  {
   "cell_type": "markdown",
   "metadata": {},
   "source": [
    "# Sentiment prediction"
   ]
  },
  {
   "cell_type": "code",
   "execution_count": null,
   "metadata": {
    "ExecuteTime": {
     "end_time": "2017-10-15T06:07:24.973168Z",
     "start_time": "2017-10-15T06:07:24.894242Z"
    },
    "collapsed": false
   },
   "outputs": [],
   "source": [
    "orders = pd.read_csv('data/0_orders.csv')"
   ]
  },
  {
   "cell_type": "code",
   "execution_count": null,
   "metadata": {
    "ExecuteTime": {
     "end_time": "2017-10-15T06:08:15.903290Z",
     "start_time": "2017-10-15T06:08:15.885626Z"
    },
    "collapsed": true
   },
   "outputs": [],
   "source": [
    "orders = orders.loc[orders.sentiment.isin(['good', 'bad']), :].copy()"
   ]
  },
  {
   "cell_type": "code",
   "execution_count": null,
   "metadata": {
    "ExecuteTime": {
     "end_time": "2017-10-15T06:09:00.796360Z",
     "start_time": "2017-10-15T06:09:00.793059Z"
    },
    "collapsed": false
   },
   "outputs": [],
   "source": [
    "y = orders['sentiment'].values"
   ]
  },
  {
   "cell_type": "code",
   "execution_count": null,
   "metadata": {
    "ExecuteTime": {
     "end_time": "2017-10-15T06:09:01.040343Z",
     "start_time": "2017-10-15T06:09:01.033857Z"
    },
    "collapsed": false
   },
   "outputs": [],
   "source": [
    "y = (y == 'bad') * 1"
   ]
  },
  {
   "cell_type": "code",
   "execution_count": null,
   "metadata": {
    "ExecuteTime": {
     "end_time": "2017-10-15T06:09:01.394397Z",
     "start_time": "2017-10-15T06:09:01.389478Z"
    },
    "collapsed": false
   },
   "outputs": [],
   "source": [
    "y"
   ]
  },
  {
   "cell_type": "code",
   "execution_count": null,
   "metadata": {
    "ExecuteTime": {
     "end_time": "2017-10-15T06:09:45.295539Z",
     "start_time": "2017-10-15T06:09:45.287253Z"
    },
    "collapsed": true
   },
   "outputs": [],
   "source": [
    "X = orders[['cost', 'lat', 'lon', 'date', 'user_id']].copy()"
   ]
  },
  {
   "cell_type": "code",
   "execution_count": null,
   "metadata": {
    "ExecuteTime": {
     "end_time": "2017-10-15T06:10:01.075422Z",
     "start_time": "2017-10-15T06:10:01.071305Z"
    },
    "collapsed": false
   },
   "outputs": [],
   "source": [
    "from catboost import CatBoostClassifier"
   ]
  },
  {
   "cell_type": "code",
   "execution_count": null,
   "metadata": {
    "ExecuteTime": {
     "end_time": "2017-10-15T06:10:32.291498Z",
     "start_time": "2017-10-15T06:10:32.279191Z"
    },
    "collapsed": true
   },
   "outputs": [],
   "source": [
    "mdl = CatBoostClassifier()"
   ]
  },
  {
   "cell_type": "code",
   "execution_count": null,
   "metadata": {
    "ExecuteTime": {
     "end_time": "2017-10-15T06:11:23.599299Z",
     "start_time": "2017-10-15T06:11:23.595495Z"
    },
    "collapsed": true
   },
   "outputs": [],
   "source": [
    "cat_features = ['date', 'user_id']"
   ]
  },
  {
   "cell_type": "code",
   "execution_count": null,
   "metadata": {
    "ExecuteTime": {
     "end_time": "2017-10-15T06:19:13.228801Z",
     "start_time": "2017-10-15T06:19:13.222751Z"
    },
    "collapsed": false
   },
   "outputs": [],
   "source": [
    "X['cost'].dtype == np.dtype('int')"
   ]
  },
  {
   "cell_type": "code",
   "execution_count": null,
   "metadata": {
    "ExecuteTime": {
     "end_time": "2017-10-15T06:11:25.297756Z",
     "start_time": "2017-10-15T06:11:25.290682Z"
    },
    "collapsed": true
   },
   "outputs": [],
   "source": [
    "cat_features = [list(X.columns).index(f) for f in cat_features]"
   ]
  },
  {
   "cell_type": "code",
   "execution_count": null,
   "metadata": {
    "ExecuteTime": {
     "end_time": "2017-10-15T06:11:51.185301Z",
     "start_time": "2017-10-15T06:11:41.316682Z"
    },
    "collapsed": false
   },
   "outputs": [],
   "source": [
    "mdl.fit(X, y, cat_features=cat_features)"
   ]
  },
  {
   "cell_type": "code",
   "execution_count": null,
   "metadata": {
    "ExecuteTime": {
     "end_time": "2017-10-15T06:24:49.199741Z",
     "start_time": "2017-10-15T06:24:49.192589Z"
    },
    "collapsed": false
   },
   "outputs": [],
   "source": [
    "np.array(X.columns)[np.argsort(mdl.feature_importance_)[-3:]]"
   ]
  },
  {
   "cell_type": "code",
   "execution_count": null,
   "metadata": {
    "ExecuteTime": {
     "end_time": "2017-10-15T06:25:28.333247Z",
     "start_time": "2017-10-15T06:25:28.326762Z"
    },
    "collapsed": false
   },
   "outputs": [],
   "source": [
    "dict(zip(list(X.columns), [round(fi, 2) for fi in mdl.feature_importance_]))"
   ]
  },
  {
   "cell_type": "code",
   "execution_count": null,
   "metadata": {
    "ExecuteTime": {
     "end_time": "2017-10-15T06:26:24.153490Z",
     "start_time": "2017-10-15T06:26:24.147894Z"
    },
    "collapsed": false
   },
   "outputs": [],
   "source": []
  },
  {
   "cell_type": "code",
   "execution_count": null,
   "metadata": {
    "ExecuteTime": {
     "end_time": "2017-10-15T06:32:41.436336Z",
     "start_time": "2017-10-15T06:32:41.406028Z"
    },
    "collapsed": false
   },
   "outputs": [],
   "source": [
    "import numpy as np\n",
    "import pandas as pd\n",
    "from catboost import CatBoostClassifier\n",
    "from datetime import datetime\n",
    "\n",
    "def get_ml(X, y):\n",
    "\t\"\"\"\n",
    "\tProvides with machine learning magic\n",
    "\t\"\"\"\n",
    "\tstart = datetime.now()\n",
    "\n",
    "\tresponse = 'Using CatBoostClassifier**\\n'\n",
    "\n",
    "\tresponse += 'Categorical features recognized:\\n'\n",
    "\tcat_features = []\n",
    "\tfor f in list(X.columns):\n",
    "\t\tif not X[f].dtype in [np.dtype('int'), np.dtype('float64')]:\n",
    "\t\t\tcat_features.append(f)\n",
    "\t\t\tresponse += ('* ' + f + '\\n')\n",
    "\tresponse += '\\n'\n",
    "\n",
    "\tcat_features = [list(X.columns).index(f) for f in cat_features]\n",
    "\n",
    "\tmdl.fit(X, y, cat_features=cat_features)\n",
    "\tresponse += 'Accuracy of the model: {}.\\n\\n'.format(mdl.score(X, y))\n",
    "\n",
    "\tresponse += 'Most important features:\\n'\n",
    "\tn_features = 3\n",
    "\timp_f = np.array(X.columns)[np.argsort(mdl.feature_importance_)[-n_features:]][::-1]\n",
    "\timp_fi = np.round(np.sort(mdl.feature_importance_)[-n_features:],2)[::-1]\n",
    "\tfor i in range(n_features):\n",
    "\t\tresponse += '* {}: {}\\n'.format(imp_f[i], imp_fi[i])\n",
    "\n",
    "\telapsed = (datetime.now() - start).seconds\n",
    "\tresponse += '\\n'\n",
    "\tresponse += 'Time elapsed: {} seconds'.format(elapsed)\n",
    "\n",
    "\treturn response"
   ]
  },
  {
   "cell_type": "code",
   "execution_count": null,
   "metadata": {
    "ExecuteTime": {
     "end_time": "2017-10-15T06:32:51.912331Z",
     "start_time": "2017-10-15T06:32:41.921396Z"
    },
    "collapsed": false
   },
   "outputs": [],
   "source": [
    "get_ml(X, y)"
   ]
  },
  {
   "cell_type": "code",
   "execution_count": 6,
   "metadata": {
    "ExecuteTime": {
     "end_time": "2017-10-15T07:58:20.059138Z",
     "start_time": "2017-10-15T07:58:19.807568Z"
    },
    "collapsed": false
   },
   "outputs": [],
   "source": [
    "PATH_TO_SCRIPT = '/Users/plentsov/google_drive/upc2017/'\n",
    "companies_data = {\n",
    "\t28554: {\n",
    "\t\t'users': pd.read_csv(PATH_TO_SCRIPT + 'data/0_users.csv', parse_dates = ['registration_date']),\n",
    "\t\t'orders': pd.read_csv(PATH_TO_SCRIPT + 'data/0_orders.csv', parse_dates = ['date'])\n",
    "\t},\n",
    "\t28565: {\n",
    "\t\t'users': pd.read_csv(PATH_TO_SCRIPT + 'data/0_users.csv', parse_dates = ['registration_date']),\n",
    "\t\t'orders': pd.read_csv(PATH_TO_SCRIPT + 'data/0_orders.csv', parse_dates = ['date'])\n",
    "\t},\n",
    "\t28656: {\n",
    "\t\t'users': pd.read_csv(PATH_TO_SCRIPT + 'data/0_users.csv', parse_dates = ['registration_date']),\n",
    "\t\t'orders': pd.read_csv(PATH_TO_SCRIPT + 'data/0_orders.csv', parse_dates = ['date'])\n",
    "\t}\n",
    "}"
   ]
  },
  {
   "cell_type": "code",
   "execution_count": 7,
   "metadata": {
    "ExecuteTime": {
     "end_time": "2017-10-15T07:58:21.006655Z",
     "start_time": "2017-10-15T07:58:20.977340Z"
    },
    "collapsed": false
   },
   "outputs": [],
   "source": [
    "orders = companies_data[28656]['orders'].copy()\n",
    "data = orders.loc[orders.sentiment.isin(['good', 'bad']), :].copy()\n",
    "y = data['sentiment'].values\n",
    "y = (y == 'bad') * 1\n",
    "data['date'] = data['date'].astype(str)\n",
    "X = data[['cost', 'lat', 'lon', 'date', 'user_id']].copy()\n",
    "#data = oscar_ml.get_ml(X, y)"
   ]
  },
  {
   "cell_type": "code",
   "execution_count": 8,
   "metadata": {
    "ExecuteTime": {
     "end_time": "2017-10-15T07:58:31.401421Z",
     "start_time": "2017-10-15T07:58:31.392708Z"
    },
    "collapsed": true
   },
   "outputs": [],
   "source": [
    "import oscar_ml"
   ]
  },
  {
   "cell_type": "code",
   "execution_count": 9,
   "metadata": {
    "ExecuteTime": {
     "end_time": "2017-10-15T07:58:36.663523Z",
     "start_time": "2017-10-15T07:58:32.009944Z"
    },
    "collapsed": false
   },
   "outputs": [
    {
     "ename": "AttributeError",
     "evalue": "'CatBoostClassifier' object has no attribute 'feature_importance_'",
     "output_type": "error",
     "traceback": [
      "\u001b[0;31m---------------------------------------------------------------------------\u001b[0m",
      "\u001b[0;31mAttributeError\u001b[0m                            Traceback (most recent call last)",
      "\u001b[0;32m<ipython-input-9-8cc124353bd8>\u001b[0m in \u001b[0;36m<module>\u001b[0;34m()\u001b[0m\n\u001b[0;32m----> 1\u001b[0;31m \u001b[0moscar_ml\u001b[0m\u001b[0;34m.\u001b[0m\u001b[0mget_ml\u001b[0m\u001b[0;34m(\u001b[0m\u001b[0mX\u001b[0m\u001b[0;34m,\u001b[0m \u001b[0my\u001b[0m\u001b[0;34m)\u001b[0m\u001b[0;34m\u001b[0m\u001b[0m\n\u001b[0m",
      "\u001b[0;32m/Users/plentsov/google_drive/upc2017/oscar_ml.py\u001b[0m in \u001b[0;36mget_ml\u001b[0;34m(X, y)\u001b[0m\n\u001b[1;32m     28\u001b[0m         \u001b[0mresponse\u001b[0m \u001b[0;34m+=\u001b[0m \u001b[0;34m'Most important features:\\n'\u001b[0m\u001b[0;34m\u001b[0m\u001b[0m\n\u001b[1;32m     29\u001b[0m         \u001b[0mn_features\u001b[0m \u001b[0;34m=\u001b[0m \u001b[0;36m3\u001b[0m\u001b[0;34m\u001b[0m\u001b[0m\n\u001b[0;32m---> 30\u001b[0;31m         \u001b[0mimp_f\u001b[0m \u001b[0;34m=\u001b[0m \u001b[0mnp\u001b[0m\u001b[0;34m.\u001b[0m\u001b[0marray\u001b[0m\u001b[0;34m(\u001b[0m\u001b[0mX\u001b[0m\u001b[0;34m.\u001b[0m\u001b[0mcolumns\u001b[0m\u001b[0;34m)\u001b[0m\u001b[0;34m[\u001b[0m\u001b[0mnp\u001b[0m\u001b[0;34m.\u001b[0m\u001b[0margsort\u001b[0m\u001b[0;34m(\u001b[0m\u001b[0mmdl\u001b[0m\u001b[0;34m.\u001b[0m\u001b[0mfeature_importance_\u001b[0m\u001b[0;34m)\u001b[0m\u001b[0;34m[\u001b[0m\u001b[0;34m-\u001b[0m\u001b[0mn_features\u001b[0m\u001b[0;34m:\u001b[0m\u001b[0;34m]\u001b[0m\u001b[0;34m]\u001b[0m\u001b[0;34m[\u001b[0m\u001b[0;34m:\u001b[0m\u001b[0;34m:\u001b[0m\u001b[0;34m-\u001b[0m\u001b[0;36m1\u001b[0m\u001b[0;34m]\u001b[0m\u001b[0;34m\u001b[0m\u001b[0m\n\u001b[0m\u001b[1;32m     31\u001b[0m         \u001b[0mimp_fi\u001b[0m \u001b[0;34m=\u001b[0m \u001b[0mnp\u001b[0m\u001b[0;34m.\u001b[0m\u001b[0mround\u001b[0m\u001b[0;34m(\u001b[0m\u001b[0mnp\u001b[0m\u001b[0;34m.\u001b[0m\u001b[0msort\u001b[0m\u001b[0;34m(\u001b[0m\u001b[0mmdl\u001b[0m\u001b[0;34m.\u001b[0m\u001b[0mfeature_importance_\u001b[0m\u001b[0;34m)\u001b[0m\u001b[0;34m[\u001b[0m\u001b[0;34m-\u001b[0m\u001b[0mn_features\u001b[0m\u001b[0;34m:\u001b[0m\u001b[0;34m]\u001b[0m\u001b[0;34m,\u001b[0m\u001b[0;36m2\u001b[0m\u001b[0;34m)\u001b[0m\u001b[0;34m[\u001b[0m\u001b[0;34m:\u001b[0m\u001b[0;34m:\u001b[0m\u001b[0;34m-\u001b[0m\u001b[0;36m1\u001b[0m\u001b[0;34m]\u001b[0m\u001b[0;34m\u001b[0m\u001b[0m\n\u001b[1;32m     32\u001b[0m         \u001b[0;32mfor\u001b[0m \u001b[0mi\u001b[0m \u001b[0;32min\u001b[0m \u001b[0mrange\u001b[0m\u001b[0;34m(\u001b[0m\u001b[0mn_features\u001b[0m\u001b[0;34m)\u001b[0m\u001b[0;34m:\u001b[0m\u001b[0;34m\u001b[0m\u001b[0m\n",
      "\u001b[0;31mAttributeError\u001b[0m: 'CatBoostClassifier' object has no attribute 'feature_importance_'"
     ]
    }
   ],
   "source": [
    "oscar_ml.get_ml(X, y)"
   ]
  },
  {
   "cell_type": "code",
   "execution_count": 11,
   "metadata": {
    "ExecuteTime": {
     "end_time": "2017-10-15T07:59:02.100952Z",
     "start_time": "2017-10-15T07:59:02.097083Z"
    },
    "collapsed": true
   },
   "outputs": [],
   "source": [
    "import numpy as np\n",
    "import pandas as pd\n",
    "from catboost import CatBoostClassifier\n",
    "from datetime import datetime"
   ]
  },
  {
   "cell_type": "code",
   "execution_count": 14,
   "metadata": {
    "ExecuteTime": {
     "end_time": "2017-10-15T07:59:27.105451Z",
     "start_time": "2017-10-15T07:59:22.292356Z"
    },
    "collapsed": false
   },
   "outputs": [
    {
     "ename": "SyntaxError",
     "evalue": "'return' outside function (<ipython-input-14-3c0b071625c4>, line 35)",
     "output_type": "error",
     "traceback": [
      "\u001b[0;36m  File \u001b[0;32m\"<ipython-input-14-3c0b071625c4>\"\u001b[0;36m, line \u001b[0;32m35\u001b[0m\n\u001b[0;31m    return response\u001b[0m\n\u001b[0m                   ^\u001b[0m\n\u001b[0;31mSyntaxError\u001b[0m\u001b[0;31m:\u001b[0m 'return' outside function\n"
     ]
    }
   ],
   "source": [
    "\n",
    "\n",
    "\"\"\"\n",
    "Provides with machine learning magic\n",
    "\"\"\"\n",
    "start = datetime.now()\n",
    "\n",
    "response = 'Using CatBoostClassifier**\\n'\n",
    "\n",
    "response += 'Categorical features recognized:\\n'\n",
    "cat_features = []\n",
    "for f in list(X.columns):\n",
    "    if not X[f].dtype in [np.dtype('int'), np.dtype('float64')]:\n",
    "        cat_features.append(f)\n",
    "        response += ('* ' + f + '\\n')\n",
    "response += '\\n'\n",
    "\n",
    "cat_features = [list(X.columns).index(f) for f in cat_features]\n",
    "\n",
    "mdl = CatBoostClassifier()\n",
    "mdl.fit(np.array(X), y, cat_features=cat_features)\n",
    "response += 'Accuracy of the model: {}.\\n\\n'.format(round((mdl.predict(np.array(X)) == y).mean(), 2))\n",
    "\n",
    "response += 'Most important features:\\n'\n",
    "n_features = 3\n",
    "imp_f = np.array(X.columns)[np.argsort(mdl.feature_importances_)[-n_features:]][::-1]\n",
    "imp_fi = np.round(np.sort(mdl.feature_importances_)[-n_features:],2)[::-1]\n",
    "for i in range(n_features):\n",
    "    response += '* {}: {}\\n'.format(imp_f[i], imp_fi[i])\n",
    "\n",
    "elapsed = (datetime.now() - start).seconds\n",
    "response += '\\n'\n",
    "response += 'Time elapsed: {} seconds'.format(elapsed)\n",
    "\n",
    "return response"
   ]
  },
  {
   "cell_type": "code",
   "execution_count": 16,
   "metadata": {
    "ExecuteTime": {
     "end_time": "2017-10-15T08:00:05.446692Z",
     "start_time": "2017-10-15T08:00:05.442630Z"
    },
    "collapsed": false
   },
   "outputs": [],
   "source": [
    "from oscar_ml import get_ml"
   ]
  },
  {
   "cell_type": "code",
   "execution_count": 17,
   "metadata": {
    "ExecuteTime": {
     "end_time": "2017-10-15T08:00:15.638555Z",
     "start_time": "2017-10-15T08:00:09.891761Z"
    },
    "collapsed": false
   },
   "outputs": [
    {
     "ename": "AttributeError",
     "evalue": "'CatBoostClassifier' object has no attribute 'feature_importance_'",
     "output_type": "error",
     "traceback": [
      "\u001b[0;31m---------------------------------------------------------------------------\u001b[0m",
      "\u001b[0;31mAttributeError\u001b[0m                            Traceback (most recent call last)",
      "\u001b[0;32m<ipython-input-17-34024ca50cc8>\u001b[0m in \u001b[0;36m<module>\u001b[0;34m()\u001b[0m\n\u001b[0;32m----> 1\u001b[0;31m \u001b[0mget_ml\u001b[0m\u001b[0;34m(\u001b[0m\u001b[0mX\u001b[0m\u001b[0;34m,\u001b[0m \u001b[0my\u001b[0m\u001b[0;34m)\u001b[0m\u001b[0;34m\u001b[0m\u001b[0m\n\u001b[0m",
      "\u001b[0;32m/Users/plentsov/google_drive/upc2017/oscar_ml.py\u001b[0m in \u001b[0;36mget_ml\u001b[0;34m(X, y)\u001b[0m\n\u001b[1;32m     28\u001b[0m         \u001b[0mresponse\u001b[0m \u001b[0;34m+=\u001b[0m \u001b[0;34m'Most important features:\\n'\u001b[0m\u001b[0;34m\u001b[0m\u001b[0m\n\u001b[1;32m     29\u001b[0m         \u001b[0mn_features\u001b[0m \u001b[0;34m=\u001b[0m \u001b[0;36m3\u001b[0m\u001b[0;34m\u001b[0m\u001b[0m\n\u001b[0;32m---> 30\u001b[0;31m         \u001b[0mimp_f\u001b[0m \u001b[0;34m=\u001b[0m \u001b[0mnp\u001b[0m\u001b[0;34m.\u001b[0m\u001b[0marray\u001b[0m\u001b[0;34m(\u001b[0m\u001b[0mX\u001b[0m\u001b[0;34m.\u001b[0m\u001b[0mcolumns\u001b[0m\u001b[0;34m)\u001b[0m\u001b[0;34m[\u001b[0m\u001b[0mnp\u001b[0m\u001b[0;34m.\u001b[0m\u001b[0margsort\u001b[0m\u001b[0;34m(\u001b[0m\u001b[0mmdl\u001b[0m\u001b[0;34m.\u001b[0m\u001b[0mfeature_importances_\u001b[0m\u001b[0;34m)\u001b[0m\u001b[0;34m[\u001b[0m\u001b[0;34m-\u001b[0m\u001b[0mn_features\u001b[0m\u001b[0;34m:\u001b[0m\u001b[0;34m]\u001b[0m\u001b[0;34m]\u001b[0m\u001b[0;34m[\u001b[0m\u001b[0;34m:\u001b[0m\u001b[0;34m:\u001b[0m\u001b[0;34m-\u001b[0m\u001b[0;36m1\u001b[0m\u001b[0;34m]\u001b[0m\u001b[0;34m\u001b[0m\u001b[0m\n\u001b[0m\u001b[1;32m     31\u001b[0m         \u001b[0mimp_fi\u001b[0m \u001b[0;34m=\u001b[0m \u001b[0mnp\u001b[0m\u001b[0;34m.\u001b[0m\u001b[0mround\u001b[0m\u001b[0;34m(\u001b[0m\u001b[0mnp\u001b[0m\u001b[0;34m.\u001b[0m\u001b[0msort\u001b[0m\u001b[0;34m(\u001b[0m\u001b[0mmdl\u001b[0m\u001b[0;34m.\u001b[0m\u001b[0mfeature_importances_\u001b[0m\u001b[0;34m)\u001b[0m\u001b[0;34m[\u001b[0m\u001b[0;34m-\u001b[0m\u001b[0mn_features\u001b[0m\u001b[0;34m:\u001b[0m\u001b[0;34m]\u001b[0m\u001b[0;34m,\u001b[0m\u001b[0;36m2\u001b[0m\u001b[0;34m)\u001b[0m\u001b[0;34m[\u001b[0m\u001b[0;34m:\u001b[0m\u001b[0;34m:\u001b[0m\u001b[0;34m-\u001b[0m\u001b[0;36m1\u001b[0m\u001b[0;34m]\u001b[0m\u001b[0;34m\u001b[0m\u001b[0m\n\u001b[1;32m     32\u001b[0m         \u001b[0;32mfor\u001b[0m \u001b[0mi\u001b[0m \u001b[0;32min\u001b[0m \u001b[0mrange\u001b[0m\u001b[0;34m(\u001b[0m\u001b[0mn_features\u001b[0m\u001b[0;34m)\u001b[0m\u001b[0;34m:\u001b[0m\u001b[0;34m\u001b[0m\u001b[0m\n",
      "\u001b[0;31mAttributeError\u001b[0m: 'CatBoostClassifier' object has no attribute 'feature_importance_'"
     ]
    }
   ],
   "source": [
    "get_ml(X, y)"
   ]
  },
  {
   "cell_type": "code",
   "execution_count": null,
   "metadata": {
    "collapsed": true
   },
   "outputs": [],
   "source": []
  }
 ],
 "metadata": {
  "anaconda-cloud": {},
  "kernelspec": {
   "display_name": "Python [conda env:py3]",
   "language": "python",
   "name": "conda-env-py3-py"
  },
  "language_info": {
   "codemirror_mode": {
    "name": "ipython",
    "version": 3
   },
   "file_extension": ".py",
   "mimetype": "text/x-python",
   "name": "python",
   "nbconvert_exporter": "python",
   "pygments_lexer": "ipython3",
   "version": "3.6.0"
  },
  "toc": {
   "colors": {
    "hover_highlight": "#DAA520",
    "navigate_num": "#000000",
    "navigate_text": "#333333",
    "running_highlight": "#FF0000",
    "selected_highlight": "#FFD700",
    "sidebar_border": "#EEEEEE",
    "wrapper_background": "#FFFFFF"
   },
   "moveMenuLeft": true,
   "nav_menu": {
    "height": "48px",
    "width": "252px"
   },
   "navigate_menu": true,
   "number_sections": true,
   "sideBar": false,
   "threshold": 4,
   "toc_cell": false,
   "toc_section_display": "block",
   "toc_window_display": false,
   "widenNotebook": false
  }
 },
 "nbformat": 4,
 "nbformat_minor": 1
}
